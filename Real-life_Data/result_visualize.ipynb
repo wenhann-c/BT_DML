{
 "cells": [
  {
   "cell_type": "code",
   "execution_count": 1,
   "id": "c7501dee",
   "metadata": {},
   "outputs": [],
   "source": [
    "import pandas as pd\n",
    "import numpy as np\n",
    "import matplotlib.pyplot as plt\n",
    "import seaborn as sns\n",
    "import pickle"
   ]
  },
  {
   "cell_type": "code",
   "execution_count": 2,
   "id": "75dab82f",
   "metadata": {},
   "outputs": [],
   "source": [
    "best_ref = 9215"
   ]
  },
  {
   "cell_type": "code",
   "execution_count": 3,
   "id": "7d7b3e3c",
   "metadata": {},
   "outputs": [],
   "source": [
    "results = {}"
   ]
  },
  {
   "cell_type": "code",
   "execution_count": 4,
   "id": "02067efa",
   "metadata": {},
   "outputs": [
    {
     "name": "stdout",
     "output_type": "stream",
     "text": [
      "5896.198421134194\n",
      "1250.0139479480117\n",
      "[3446.21610298 8346.18073929]\n"
     ]
    }
   ],
   "source": [
    "with open('results_mlr.pkl', 'rb') as pickle_file:\n",
    "    results['MLR'] = pickle.load(pickle_file)\n",
    "\n",
    "print(results['MLR'][\"ate_estimate\"])\n",
    "print(results['MLR'][\"se_estimate\"])\n",
    "print(results['MLR'][\"CI\"])"
   ]
  },
  {
   "cell_type": "code",
   "execution_count": 5,
   "id": "97d59629",
   "metadata": {},
   "outputs": [
    {
     "name": "stdout",
     "output_type": "stream",
     "text": [
      "{'treat': {'n_neighbors': 40, 'p': 1}, 'control': {'n_neighbors': 50, 'p': 1}}\n"
     ]
    }
   ],
   "source": [
    "with open('opt_params_knn.pkl', 'rb') as pickle_file:\n",
    "    opt_dict_knn = pickle.load(pickle_file)\n",
    "\n",
    "print(opt_dict_knn)"
   ]
  },
  {
   "cell_type": "code",
   "execution_count": 6,
   "id": "b8094999",
   "metadata": {},
   "outputs": [
    {
     "name": "stdout",
     "output_type": "stream",
     "text": [
      "8486.253856278367\n",
      "1363.3349478384248\n",
      "[ 6097.87216783 10855.58429661]\n"
     ]
    }
   ],
   "source": [
    "with open('results_knn.pkl', 'rb') as pickle_file:\n",
    "    results['KNN'] = pickle.load(pickle_file)\n",
    "\n",
    "\n",
    "print(results['KNN'][\"ate_estimate\"])\n",
    "print(results['KNN'][\"se_estimate\"])\n",
    "print(results['KNN'][\"CI\"])"
   ]
  },
  {
   "cell_type": "code",
   "execution_count": 7,
   "id": "1077b8fb",
   "metadata": {},
   "outputs": [
    {
     "name": "stdout",
     "output_type": "stream",
     "text": [
      "{'l': {'max_depth': 6, 'min_samples_leaf': 4, 'n_estimators': 300}, 'm': {'max_depth': 6, 'min_samples_leaf': 6, 'n_estimators': 500}}\n"
     ]
    }
   ],
   "source": [
    "with open('opt_params_rf.pkl', 'rb') as pickle_file:\n",
    "    opt_dict_rf = pickle.load(pickle_file)\n",
    "\n",
    "print(opt_dict_rf)"
   ]
  },
  {
   "cell_type": "code",
   "execution_count": 8,
   "id": "2bd11b1f",
   "metadata": {},
   "outputs": [
    {
     "name": "stdout",
     "output_type": "stream",
     "text": [
      "8987.225671825534\n",
      "1238.9585018835228\n",
      "[ 6558.91162979 11415.53971386]\n"
     ]
    }
   ],
   "source": [
    "with open('results_rf.pkl', 'rb') as pickle_file:\n",
    "    results['Random Forest'] = pickle.load(pickle_file)\n",
    "\n",
    "print(results['Random Forest'][\"ate_estimate\"])\n",
    "print(results['Random Forest'][\"se_estimate\"])\n",
    "print(results['Random Forest'][\"CI\"])"
   ]
  },
  {
   "cell_type": "code",
   "execution_count": 9,
   "id": "59dfd514",
   "metadata": {},
   "outputs": [
    {
     "name": "stdout",
     "output_type": "stream",
     "text": [
      "{'l': {'learning_rate': 0.05, 'max_depth': 2, 'n_estimators': 140, 'reg_lambda': 0.01, 'subsample': 0.8}, 'm': {'learning_rate': 0.2, 'max_depth': 2, 'n_estimators': 80, 'reg_lambda': 100, 'subsample': 0.8}}\n"
     ]
    }
   ],
   "source": [
    "import pickle\n",
    "\n",
    "with open('opt_params_xgb.pkl', 'rb') as pickle_file:\n",
    "    opt_dict_xgb = pickle.load(pickle_file)\n",
    "\n",
    "print(opt_dict_xgb)"
   ]
  },
  {
   "cell_type": "code",
   "execution_count": 10,
   "id": "b3395973",
   "metadata": {},
   "outputs": [
    {
     "name": "stdout",
     "output_type": "stream",
     "text": [
      "9070.76087772417\n",
      "1231.1278491091623\n",
      "[ 6657.79463311 11483.72712234]\n"
     ]
    }
   ],
   "source": [
    "with open('results_xgb.pkl', 'rb') as pickle_file:\n",
    "    results['XGBoost']  = pickle.load(pickle_file)\n",
    "\n",
    "print(results['XGBoost'][\"ate_estimate\"])\n",
    "print(results['XGBoost'][\"se_estimate\"])\n",
    "print(results['XGBoost'][\"CI\"])"
   ]
  },
  {
   "cell_type": "code",
   "execution_count": 11,
   "id": "7d76eb49",
   "metadata": {},
   "outputs": [],
   "source": [
    "colors = ['tab:red', 'tab:orange', 'tab:green', 'tab:purple']"
   ]
  },
  {
   "cell_type": "code",
   "execution_count": 12,
   "id": "58d8fb15",
   "metadata": {},
   "outputs": [
    {
     "data": {
      "image/png": "[encoded data removed]",
      "text/plain": [
       "<Figure size 600x400 with 1 Axes>"
      ]
     },
     "metadata": {},
     "output_type": "display_data"
    }
   ],
   "source": [
    "plt.figure(figsize=(6, 4))\n",
    "\n",
    "plt.axhline(y=best_ref, color='tab:blue', linestyle='--', label=\"'Best' ATE\")\n",
    "\n",
    "for i, (ml_name, result) in enumerate(results.items()):\n",
    "    if i < 2:\n",
    "        plt.errorbar(ml_name, result['ate_estimate'], yerr=[[result['ate_estimate']-result['CI'][0]],[result['CI'][1]-result['ate_estimate']]], fmt='o', capsize=10, color=colors[i])\n",
    "    else:\n",
    "        plt.errorbar(f\"DML\\n({ml_name})\", result['ate_estimate'], yerr=[[result['ate_estimate']-result['CI'][0]],[result['CI'][1]-result['ate_estimate']]], fmt='o', capsize=10, color=colors[i])\n",
    "\n",
    "plt.ylabel('Estimated ATE with CIs')\n",
    "plt.legend(loc='center left', bbox_to_anchor=(1, 0.5))\n",
    "\n",
    "plt.savefig(f'401k_ate.png', dpi=300, bbox_inches='tight')"
   ]
  }
 ],
 "metadata": {
  "kernelspec": {
   "display_name": "ba-dml (3.11.7)",
   "language": "python",
   "name": "python3"
  },
  "language_info": {
   "codemirror_mode": {
    "name": "ipython",
    "version": 3
   },
   "file_extension": ".py",
   "mimetype": "text/x-python",
   "name": "python",
   "nbconvert_exporter": "python",
   "pygments_lexer": "ipython3",
   "version": "3.11.7"
  }
 },
 "nbformat": 4,
 "nbformat_minor": 5
}
