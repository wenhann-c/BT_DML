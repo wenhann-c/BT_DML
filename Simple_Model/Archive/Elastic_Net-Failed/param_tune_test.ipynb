{
 "cells": [
  {
   "cell_type": "code",
   "execution_count": 69,
   "id": "d82d2ec0",
   "metadata": {},
   "outputs": [
    {
     "name": "stderr",
     "output_type": "stream",
     "text": [
      "c:\\Users\\mic\\OneDrive\\Documents\\001 VWL\\Sem 6\\Thesis\\BA_DML\\BA_DML\\Simple_Model\\Elastic_Net\\data_generation.py:14: RuntimeWarning: invalid value encountered in sqrt\n",
      "  return 2*np.abs(x[:,0]*x[:,4]) - np.exp(x[:,1]*x[:,5]) + 2*x[:,2]**0.5 + np.sin(x[:,2]*x[:,3]) - x[:,0]*x[:,2]\n"
     ]
    },
    {
     "data": {
      "text/plain": [
       "<matplotlib.collections.PathCollection at 0x24aa04c7650>"
      ]
     },
     "execution_count": 69,
     "metadata": {},
     "output_type": "execute_result"
    },
    {
     "data": {
      "image/png": "[encoded data removed]",
      "text/plain": [
       "<Figure size 640x480 with 1 Axes>"
      ]
     },
     "metadata": {},
     "output_type": "display_data"
    }
   ],
   "source": [
    "from data_generation import get_data\n",
    "import numpy as np\n",
    "\n",
    "rng = np.random.default_rng(seed=42)\n",
    "\n",
    "y_data, d_data, x_data = get_data(10000,rng)\n",
    "plt.scatter(d_data, y_data)"
   ]
  },
  {
   "cell_type": "code",
   "execution_count": 73,
   "id": "c7501dee",
   "metadata": {},
   "outputs": [],
   "source": [
    "import numpy as np\n",
    "import matplotlib.pyplot as plt\n",
    "import seaborn as sns\n",
    "\n",
    "import pickle\n",
    "from scipy.stats import norm\n",
    "\n",
    "with open('results_eln.pkl', 'rb') as pickle_file:\n",
    "    results_dict_ = pickle.load(pickle_file)"
   ]
  },
  {
   "cell_type": "code",
   "execution_count": 74,
   "id": "a7d1d638",
   "metadata": {},
   "outputs": [
    {
     "name": "stdout",
     "output_type": "stream",
     "text": [
      "[-2.06294148]\n",
      "[0.05008145]\n",
      "[8.98283383 1.85079466]\n"
     ]
    }
   ],
   "source": [
    "print(results_dict_[\"ate_estimates\"].mean(axis=0))\n",
    "print(results_dict_[\"se_estimates\"].mean(axis=0))\n",
    "print(results_dict_[\"mses\"].mean(axis=0))"
   ]
  },
  {
   "cell_type": "code",
   "execution_count": 75,
   "id": "7de83192-c129-4c8d-901a-3fa0f30cc41b",
   "metadata": {},
   "outputs": [
    {
     "name": "stdout",
     "output_type": "stream",
     "text": [
      "{'l': {'alpha': np.float64(0.010554315732879247), 'l1_ratio': np.float64(0.91)}, 'm': {'alpha': np.float64(0.014854232640000178), 'l1_ratio': np.float64(0.96)}}\n"
     ]
    }
   ],
   "source": [
    "import pickle\n",
    "\n",
    "with open('opt_params_eln.pkl', 'rb') as pickle_file:\n",
    "    opt_dict_ = pickle.load(pickle_file)\n",
    "\n",
    "print(opt_dict_)"
   ]
  },
  {
   "cell_type": "code",
   "execution_count": 30,
   "id": "5387f888",
   "metadata": {},
   "outputs": [
    {
     "data": {
      "text/plain": [
       "np.float64(1.3066846709110735)"
      ]
     },
     "execution_count": 30,
     "metadata": {},
     "output_type": "execute_result"
    }
   ],
   "source": [
    "import numpy as np\n",
    "\n",
    "from data_generation import g, d, get_data\n",
    "\n",
    "rng = np.random.default_rng(seed=42)\n",
    "\n",
    "y_data, d_data, x_data = get_data(100000, rng)\n",
    "\n",
    "def mm_ate(y_data, d_data, x_data):\n",
    "\n",
    "    # score_a = np.dot(d_data - d(x_data), d_data - d(x_data))\n",
    "    # score_b = np.dot(d_data - d(x_data), y_data - g(x_data) - (-2.0 * d(x_data)))\n",
    "    E_Y_given_X = g(x_data) + (-2.0 * d(x_data))\n",
    "    E_D_given_X = d(x_data)\n",
    "\n",
    "    # Residuals\n",
    "    D_res = np.mean(d_data - E_D_given_X)\n",
    "    Y_res = np.mean(y_data - E_Y_given_X)\n",
    "\n",
    "    # Oracle estimate\n",
    "    coef = np.mean(np.multiply(D_res, Y_res)) / np.mean(np.multiply(D_res, D_res))\n",
    "    # coef = score_b /score_a\n",
    "\n",
    "    return coef\n",
    "\n",
    "mm_ate(y_data, d_data, x_data)"
   ]
  },
  {
   "cell_type": "code",
   "execution_count": null,
   "id": "9f39bf45",
   "metadata": {},
   "outputs": [],
   "source": [
    "print(y_data[0], d_data[0])"
   ]
  },
  {
   "cell_type": "code",
   "execution_count": null,
   "id": "71148941",
   "metadata": {},
   "outputs": [],
   "source": [
    "print(x_data[0])"
   ]
  },
  {
   "cell_type": "code",
   "execution_count": null,
   "id": "f8dc4c45",
   "metadata": {},
   "outputs": [],
   "source": []
  }
 ],
 "metadata": {
  "kernelspec": {
   "display_name": "ba-dml",
   "language": "python",
   "name": "python3"
  },
  "language_info": {
   "codemirror_mode": {
    "name": "ipython",
    "version": 3
   },
   "file_extension": ".py",
   "mimetype": "text/x-python",
   "name": "python",
   "nbconvert_exporter": "python",
   "pygments_lexer": "ipython3",
   "version": "3.11.7"
  }
 },
 "nbformat": 4,
 "nbformat_minor": 5
}
