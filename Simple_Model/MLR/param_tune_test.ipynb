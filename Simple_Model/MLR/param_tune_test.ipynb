{
 "cells": [
  {
   "cell_type": "code",
   "execution_count": 3,
   "id": "c7501dee",
   "metadata": {},
   "outputs": [],
   "source": [
    "import numpy as np\n",
    "import matplotlib.pyplot as plt\n",
    "import seaborn as sns\n",
    "\n",
    "import pickle\n",
    "from scipy.stats import norm\n",
    "\n",
    "with open('results_mlr.pkl', 'rb') as pickle_file:\n",
    "    results_dict_ = pickle.load(pickle_file)"
   ]
  },
  {
   "cell_type": "code",
   "execution_count": 4,
   "id": "d8d0bcd1-fdbe-4721-9939-7468edaf42e6",
   "metadata": {},
   "outputs": [
    {
     "name": "stdout",
     "output_type": "stream",
     "text": [
      "[-2.06407973]\n",
      "[0.00056564]\n",
      "[8.98549306 1.85519065]\n"
     ]
    }
   ],
   "source": [
    "print(results_dict_[\"ate_estimates\"].mean(axis=0))\n",
    "print(results_dict_[\"se_estimates\"].mean(axis=0))\n",
    "print(results_dict_[\"mses\"].mean(axis=0))"
   ]
  },
  {
   "cell_type": "code",
   "execution_count": null,
   "id": "8d95880c",
   "metadata": {},
   "outputs": [],
   "source": []
  }
 ],
 "metadata": {
  "kernelspec": {
   "display_name": ".venv",
   "language": "python",
   "name": "python3"
  },
  "language_info": {
   "codemirror_mode": {
    "name": "ipython",
    "version": 3
   },
   "file_extension": ".py",
   "mimetype": "text/x-python",
   "name": "python",
   "nbconvert_exporter": "python",
   "pygments_lexer": "ipython3",
   "version": "3.11.7"
  }
 },
 "nbformat": 4,
 "nbformat_minor": 5
}
