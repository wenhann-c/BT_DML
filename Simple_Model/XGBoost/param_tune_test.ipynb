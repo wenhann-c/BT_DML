{
 "cells": [
  {
   "cell_type": "code",
   "execution_count": 7,
   "id": "c7501dee",
   "metadata": {},
   "outputs": [],
   "source": [
    "import numpy as np\n",
    "import matplotlib.pyplot as plt\n",
    "import seaborn as sns\n",
    "\n",
    "import pickle\n",
    "from scipy.stats import norm\n",
    "\n",
    "with open('results_xgb.pkl', 'rb') as pickle_file:\n",
    "    results_dict_ = pickle.load(pickle_file)"
   ]
  },
  {
   "cell_type": "code",
   "execution_count": 8,
   "id": "e0bb75fe",
   "metadata": {},
   "outputs": [
    {
     "name": "stdout",
     "output_type": "stream",
     "text": [
      "[-1.9986253]\n",
      "[0.04348269]\n",
      "[8.37876951 1.81785155]\n"
     ]
    }
   ],
   "source": [
    "print(results_dict_[\"ate_estimates\"].mean(axis=0))\n",
    "print(results_dict_[\"se_estimates\"].mean(axis=0))\n",
    "print(results_dict_[\"mses\"].mean(axis=0))"
   ]
  },
  {
   "cell_type": "code",
   "execution_count": 4,
   "id": "7de83192-c129-4c8d-901a-3fa0f30cc41b",
   "metadata": {},
   "outputs": [
    {
     "name": "stdout",
     "output_type": "stream",
     "text": [
      "{'l': {'colsample_bytree': 0.8, 'learning_rate': 0.21, 'max_depth': 2, 'n_estimators': 490, 'reg_lambda': 1, 'subsample': 0.8}, 'm': {'colsample_bytree': 0.8, 'learning_rate': 0.14, 'max_depth': 2, 'n_estimators': 540, 'reg_lambda': 1, 'subsample': 0.8}}\n"
     ]
    }
   ],
   "source": [
    "import pickle\n",
    "\n",
    "with open('opt_params_xgb.pkl', 'rb') as pickle_file:\n",
    "    opt_dict_ = pickle.load(pickle_file)\n",
    "\n",
    "print(opt_dict_)"
   ]
  },
  {
   "cell_type": "code",
   "execution_count": 30,
   "id": "5387f888",
   "metadata": {},
   "outputs": [
    {
     "data": {
      "text/plain": [
       "np.float64(1.3066846709110735)"
      ]
     },
     "execution_count": 30,
     "metadata": {},
     "output_type": "execute_result"
    }
   ],
   "source": [
    "import numpy as np\n",
    "\n",
    "from data_generation import g, d, get_data\n",
    "\n",
    "rng = np.random.default_rng(seed=42)\n",
    "\n",
    "y_data, d_data, x_data = get_data(100000, rng)\n",
    "\n",
    "def mm_ate(y_data, d_data, x_data):\n",
    "\n",
    "    # score_a = np.dot(d_data - d(x_data), d_data - d(x_data))\n",
    "    # score_b = np.dot(d_data - d(x_data), y_data - g(x_data) - (-2.0 * d(x_data)))\n",
    "    E_Y_given_X = g(x_data) + (-2.0 * d(x_data))\n",
    "    E_D_given_X = d(x_data)\n",
    "\n",
    "    # Residuals\n",
    "    D_res = np.mean(d_data - E_D_given_X)\n",
    "    Y_res = np.mean(y_data - E_Y_given_X)\n",
    "\n",
    "    # Oracle estimate\n",
    "    coef = np.mean(np.multiply(D_res, Y_res)) / np.mean(np.multiply(D_res, D_res))\n",
    "    # coef = score_b /score_a\n",
    "\n",
    "    return coef\n",
    "\n",
    "mm_ate(y_data, d_data, x_data)"
   ]
  },
  {
   "cell_type": "code",
   "execution_count": null,
   "id": "9f39bf45",
   "metadata": {},
   "outputs": [],
   "source": [
    "print(y_data[0], d_data[0])"
   ]
  },
  {
   "cell_type": "code",
   "execution_count": null,
   "id": "71148941",
   "metadata": {},
   "outputs": [],
   "source": [
    "print(x_data[0])"
   ]
  },
  {
   "cell_type": "code",
   "execution_count": null,
   "id": "f8dc4c45",
   "metadata": {},
   "outputs": [],
   "source": []
  }
 ],
 "metadata": {
  "kernelspec": {
   "display_name": ".venv",
   "language": "python",
   "name": "python3"
  },
  "language_info": {
   "codemirror_mode": {
    "name": "ipython",
    "version": 3
   },
   "file_extension": ".py",
   "mimetype": "text/x-python",
   "name": "python",
   "nbconvert_exporter": "python",
   "pygments_lexer": "ipython3",
   "version": "3.11.7"
  }
 },
 "nbformat": 4,
 "nbformat_minor": 5
}
